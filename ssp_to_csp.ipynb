{
  "nbformat": 4,
  "nbformat_minor": 0,
  "metadata": {
    "colab": {
      "provenance": [],
      "authorship_tag": "ABX9TyOepHp/zjl+yKQ+4UQvN5bq",
      "include_colab_link": true
    },
    "kernelspec": {
      "name": "python3",
      "display_name": "Python 3"
    },
    "language_info": {
      "name": "python"
    }
  },
  "cells": [
    {
      "cell_type": "markdown",
      "metadata": {
        "id": "view-in-github",
        "colab_type": "text"
      },
      "source": [
        "<a href=\"https://colab.research.google.com/github/kavindus0/ssd-to-table-data-trial/blob/main/ssp_to_csp.ipynb\" target=\"_parent\"><img src=\"https://colab.research.google.com/assets/colab-badge.svg\" alt=\"Open In Colab\"/></a>"
      ]
    },
    {
      "cell_type": "code",
      "source": [
        "import numpy as np\n"
      ],
      "metadata": {
        "id": "eZ_OwWYiNQd7"
      },
      "execution_count": 6,
      "outputs": []
    },
    {
      "cell_type": "code",
      "execution_count": 17,
      "metadata": {
        "colab": {
          "base_uri": "https://localhost:8080/"
        },
        "id": "7gYmRDZjM46p",
        "outputId": "a1299e7d-91d9-44fc-b381-7e9fbb5caf1b"
      },
      "outputs": [
        {
          "output_type": "stream",
          "name": "stdout",
          "text": [
            "[['id', 'Name', 'age', 'city', 'phone'], ['1', 'Tolkiens', '34', 'matara', '09878987'], ['2', 'Martin', '33', 'jaffna', '67678980']]\n"
          ]
        }
      ],
      "source": [
        "x = 'id Name age city phone 1 Tolkiens 34 matara 09878987 2 Martin 33 jaffna 67678980'\n",
        "lists = x.split(' ')\n",
        "head = lists[0:5]\n",
        "lists = lists[5:]\n",
        "\n",
        "\n",
        "entr = []\n",
        "entr.append(head)\n",
        "i=0\n",
        "while i< len(lists)//5:\n",
        "  ls = lists[i*5:i*5+5]\n",
        "  entr.append(ls)\n",
        "  i+=1\n",
        "\n",
        "\n",
        "print(entr)\n",
        "#table = [[y for x in t for y in x or ['']] for t in entr]\n",
        "\n",
        ""
      ]
    }
  ]
}