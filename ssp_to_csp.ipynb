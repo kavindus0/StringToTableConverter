{
  "nbformat": 4,
  "nbformat_minor": 0,
  "metadata": {
    "colab": {
      "provenance": [],
      "authorship_tag": "ABX9TyN+5GxzuniWjhonmjaaTMtZ",
      "include_colab_link": true
    },
    "kernelspec": {
      "name": "python3",
      "display_name": "Python 3"
    },
    "language_info": {
      "name": "python"
    }
  },
  "cells": [
    {
      "cell_type": "markdown",
      "metadata": {
        "id": "view-in-github",
        "colab_type": "text"
      },
      "source": [
        "<a href=\"https://colab.research.google.com/github/kavindus0/ssd-to-table-data-trial/blob/main/ssp_to_csp.ipynb\" target=\"_parent\"><img src=\"https://colab.research.google.com/assets/colab-badge.svg\" alt=\"Open In Colab\"/></a>"
      ]
    },
    {
      "cell_type": "code",
      "source": [
        "import numpy as np\n"
      ],
      "metadata": {
        "id": "eZ_OwWYiNQd7"
      },
      "execution_count": 6,
      "outputs": []
    },
    {
      "cell_type": "code",
      "execution_count": 14,
      "metadata": {
        "colab": {
          "base_uri": "https://localhost:8080/"
        },
        "id": "7gYmRDZjM46p",
        "outputId": "bbb578e1-ec65-497d-dde3-00858021fa11"
      },
      "outputs": [
        {
          "output_type": "stream",
          "name": "stdout",
          "text": [
            "[['i', 'd', 'N', 'a', 'm', 'e', 'a', 'g', 'e', 'c', 'i', 't', 'y', 'p', 'h', 'o', 'n', 'e'], ['1', 'T', 'o', 'l', 'k', 'i', 'e', 'n', 's', '3', '4', 'm', 'a', 't', 'a', 'r', 'a', '0', '9', '8', '7', '8', '9', '8', '7'], ['2', 'M', 'a', 'r', 't', 'i', 'n', '3', '3', 'j', 'a', 'f', 'f', 'n', 'a', '6', '7', '6', '7', '8', '9', '8', '0']]\n"
          ]
        }
      ],
      "source": [
        "x = 'id Name age city phone 1 Tolkiens 34 matara 09878987 2 Martin 33 jaffna 67678980'\n",
        "lists = x.split(' ')\n",
        "head = lists[0:5]\n",
        "lists = lists[5:]\n",
        "\n",
        "\n",
        "entr = []\n",
        "entr.append(head)\n",
        "i=0\n",
        "while i< len(lists)//5:\n",
        "  ls = lists[i*5:i*5+5]\n",
        "  entr.append(ls)\n",
        "  i+=1\n",
        "\n",
        "#print(entr[1])\n",
        "#table = [[y for x in t for y in x or ['']] for t in entr]\n",
        "print(table)\n",
        ""
      ]
    }
  ]
}