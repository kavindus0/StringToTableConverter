{
  "nbformat": 4,
  "nbformat_minor": 0,
  "metadata": {
    "colab": {
      "provenance": [],
      "authorship_tag": "ABX9TyMAlHotJYk3cWQgHns0MeZ/",
      "include_colab_link": true
    },
    "kernelspec": {
      "name": "python3",
      "display_name": "Python 3"
    },
    "language_info": {
      "name": "python"
    }
  },
  "cells": [
    {
      "cell_type": "markdown",
      "metadata": {
        "id": "view-in-github",
        "colab_type": "text"
      },
      "source": [
        "<a href=\"https://colab.research.google.com/github/kavindus0/StringToTableConverter/blob/main/tabulate_data.ipynb\" target=\"_parent\"><img src=\"https://colab.research.google.com/assets/colab-badge.svg\" alt=\"Open In Colab\"/></a>"
      ]
    },
    {
      "cell_type": "markdown",
      "source": [
        "#Import Modules\n"
      ],
      "metadata": {
        "id": "FkD9JlYIWnvx"
      }
    },
    {
      "cell_type": "code",
      "source": [
        "from tabulate import tabulate"
      ],
      "metadata": {
        "id": "eZ_OwWYiNQd7"
      },
      "execution_count": 31,
      "outputs": []
    },
    {
      "cell_type": "markdown",
      "source": [
        "#Operations\n"
      ],
      "metadata": {
        "id": "6S8tR8oOWsJm"
      }
    },
    {
      "cell_type": "code",
      "execution_count": null,
      "metadata": {
        "id": "7gYmRDZjM46p"
      },
      "outputs": [],
      "source": [
        "input_data = '''id Name age city phone 1 Tolkiens 34 matara 09878987 2 Martin 33 jaffna 67678980 3 Rowling 28 colombo 12345678 4 Dickens 45 kandy 98765432 5 Austen 31 galle 87654321 6 Hemingway 39 trincomalee 23456789 7 Fitzgerald 36 negombo 34567890'''\n",
        "list_splitted_to_space = input_data.split(' ')\n",
        "head = list_splitted_to_space[0:5]\n",
        "list_splitted_to_space = list_splitted_to_space[5:]\n",
        "\n",
        "entire_list_before_finalize = []\n",
        "\n",
        "#entire_list_before_finalize.append(head)\n",
        "\n",
        "i=0\n",
        "while i< len(list_splitted_to_space)//5:\n",
        "  current_slicing_peice = list_splitted_to_space[i*5:i*5+5]\n",
        "  entire_list_before_finalize.append(current_slicing_peice)\n",
        "  i+=1"
      ]
    },
    {
      "cell_type": "markdown",
      "source": [
        "#Arrange Of the Table\n"
      ],
      "metadata": {
        "id": "KHa_ud4eXohR"
      }
    },
    {
      "cell_type": "code",
      "source": [
        "table = tabulate(entire_list_before_finalize,headers=['Id','Name','Age','City','Phone'],tablefmt='grid')\n",
        "\n",
        "print(table)\n"
      ],
      "metadata": {
        "id": "tulrxcU2XoFZ"
      },
      "execution_count": null,
      "outputs": []
    }
  ]
}